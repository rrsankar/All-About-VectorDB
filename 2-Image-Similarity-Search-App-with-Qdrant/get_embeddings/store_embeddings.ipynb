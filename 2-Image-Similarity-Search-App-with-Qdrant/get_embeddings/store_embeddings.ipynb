{
 "cells": [
  {
   "cell_type": "code",
   "execution_count": 1,
   "id": "38c1bb22-c260-4026-9f70-96ff2274cee3",
   "metadata": {},
   "outputs": [
    {
     "name": "stdout",
     "output_type": "stream",
     "text": [
      " Volume in drive C is OS\n",
      " Volume Serial Number is A6C7-C668\n",
      "\n",
      " Directory of C:\\Users\\ramrs\\PycharmProjects\\personal\\All-About-VectorDB\\2-Image-Similarity-Search-App-with-Qdrant\\data\n",
      "\n",
      "06/15/2024  08:18 PM    <DIR>          .\n",
      "06/15/2024  08:18 PM    <DIR>          ..\n",
      "06/15/2024  08:17 PM    <DIR>          train\n",
      "06/15/2024  08:17 PM    <DIR>          val\n",
      "               0 File(s)              0 bytes\n",
      "               4 Dir(s)  259,210,772,480 bytes free\n"
     ]
    }
   ],
   "source": [
    "!dir .\\\\data"
   ]
  },
  {
   "cell_type": "code",
   "execution_count": 23,
   "id": "e476b9a1-ba7e-452d-98c9-c4e65ea22e2e",
   "metadata": {},
   "outputs": [],
   "source": [
    "import os\n",
    "import pandas as pd\n",
    "from PIL import Image\n",
    "from io import BytesIO\n",
    "import math\n",
    "import base64\n",
    "from dotenv import load_dotenv\n",
    "\n",
    "# HuggingFace library.\n",
    "import transformers\n",
    "import torch\n",
    "\n",
    "# Get the VectorDB client.\n",
    "import qdrant_client\n",
    "from qdrant_client import models as qdrant_models"
   ]
  },
  {
   "cell_type": "code",
   "execution_count": 3,
   "id": "42a7ab7c-97cc-40e7-b17a-c76882d5098a",
   "metadata": {},
   "outputs": [
    {
     "data": {
      "text/plain": [
       "True"
      ]
     },
     "execution_count": 3,
     "metadata": {},
     "output_type": "execute_result"
    }
   ],
   "source": [
    "# USE THE DOTENV PACKAGE TO READ THE ENV VARS.\n",
    "\n",
    "load_dotenv()"
   ]
  },
  {
   "cell_type": "code",
   "execution_count": 4,
   "id": "bbf6f69b-b61c-4ad1-bfde-c6d64155df06",
   "metadata": {},
   "outputs": [],
   "source": [
    "# MAKE SURE YOU HAVE SETUP YOUR QDRANT CLOUD & HAVE THE CLUSTER URL & API KEY READY.\n",
    "\n",
    "QDRANT_DB_URL = os.getenv('QDRANT_DB_URL')\n",
    "QDRANT_API_KEY = os.getenv('QDRANT_API_KEY')"
   ]
  },
  {
   "cell_type": "markdown",
   "id": "8d795dc1-27a7-43fb-83e2-e1102e720f9b",
   "metadata": {
    "jp-MarkdownHeadingCollapsed": true
   },
   "source": [
    "## **Create a DataFrame for Image metadata.**"
   ]
  },
  {
   "cell_type": "code",
   "execution_count": 5,
   "id": "b9203754-9c60-445d-b806-12bc0c4343ac",
   "metadata": {},
   "outputs": [
    {
     "data": {
      "text/plain": [
       "5153"
      ]
     },
     "execution_count": 5,
     "metadata": {},
     "output_type": "execute_result"
    }
   ],
   "source": [
    "# READ IMAGE PATHS.\n",
    "\n",
    "data_path = \".\\\\data\\\\train\\\\cat\"\n",
    "image_paths_list = os.listdir(data_path)\n",
    "len(image_paths_list)"
   ]
  },
  {
   "cell_type": "code",
   "execution_count": 6,
   "id": "3cf58896-5395-4271-a926-e12a01b36f23",
   "metadata": {},
   "outputs": [
    {
     "data": {
      "text/plain": [
       "500"
      ]
     },
     "execution_count": 6,
     "metadata": {},
     "output_type": "execute_result"
    }
   ],
   "source": [
    "# TAKE ONLY 500 FOR THIS PROJECT.\n",
    "# ATTACH FULL PATH.\n",
    "\n",
    "image_paths_list = image_paths_list[:500]\n",
    "image_paths_list = list(map(lambda x: f\"{data_path}\\\\{x}\", image_paths_list))\n",
    "len(image_paths_list)"
   ]
  },
  {
   "cell_type": "code",
   "execution_count": 7,
   "id": "d49e4949-3d1c-47e3-b47b-5dd3c04ef65c",
   "metadata": {},
   "outputs": [
    {
     "data": {
      "text/plain": [
       "['.\\\\data\\\\train\\\\cat\\\\flickr_cat_000002.jpg',\n",
       " '.\\\\data\\\\train\\\\cat\\\\flickr_cat_000003.jpg',\n",
       " '.\\\\data\\\\train\\\\cat\\\\flickr_cat_000004.jpg',\n",
       " '.\\\\data\\\\train\\\\cat\\\\flickr_cat_000005.jpg',\n",
       " '.\\\\data\\\\train\\\\cat\\\\flickr_cat_000006.jpg']"
      ]
     },
     "execution_count": 7,
     "metadata": {},
     "output_type": "execute_result"
    }
   ],
   "source": [
    "image_paths_list[:5]"
   ]
  },
  {
   "cell_type": "code",
   "execution_count": 8,
   "id": "344e6b52-8a59-4dd0-8c80-453f0caa70a2",
   "metadata": {},
   "outputs": [
    {
     "data": {
      "text/html": [
       "<div>\n",
       "<style scoped>\n",
       "    .dataframe tbody tr th:only-of-type {\n",
       "        vertical-align: middle;\n",
       "    }\n",
       "\n",
       "    .dataframe tbody tr th {\n",
       "        vertical-align: top;\n",
       "    }\n",
       "\n",
       "    .dataframe thead th {\n",
       "        text-align: right;\n",
       "    }\n",
       "</style>\n",
       "<table border=\"1\" class=\"dataframe\">\n",
       "  <thead>\n",
       "    <tr style=\"text-align: right;\">\n",
       "      <th></th>\n",
       "      <th>image_url</th>\n",
       "      <th>class</th>\n",
       "    </tr>\n",
       "  </thead>\n",
       "  <tbody>\n",
       "    <tr>\n",
       "      <th>0</th>\n",
       "      <td>.\\data\\train\\cat\\flickr_cat_000002.jpg</td>\n",
       "      <td>cat</td>\n",
       "    </tr>\n",
       "    <tr>\n",
       "      <th>1</th>\n",
       "      <td>.\\data\\train\\cat\\flickr_cat_000003.jpg</td>\n",
       "      <td>cat</td>\n",
       "    </tr>\n",
       "    <tr>\n",
       "      <th>2</th>\n",
       "      <td>.\\data\\train\\cat\\flickr_cat_000004.jpg</td>\n",
       "      <td>cat</td>\n",
       "    </tr>\n",
       "    <tr>\n",
       "      <th>3</th>\n",
       "      <td>.\\data\\train\\cat\\flickr_cat_000005.jpg</td>\n",
       "      <td>cat</td>\n",
       "    </tr>\n",
       "    <tr>\n",
       "      <th>4</th>\n",
       "      <td>.\\data\\train\\cat\\flickr_cat_000006.jpg</td>\n",
       "      <td>cat</td>\n",
       "    </tr>\n",
       "    <tr>\n",
       "      <th>...</th>\n",
       "      <td>...</td>\n",
       "      <td>...</td>\n",
       "    </tr>\n",
       "    <tr>\n",
       "      <th>495</th>\n",
       "      <td>.\\data\\train\\cat\\flickr_cat_000556.jpg</td>\n",
       "      <td>cat</td>\n",
       "    </tr>\n",
       "    <tr>\n",
       "      <th>496</th>\n",
       "      <td>.\\data\\train\\cat\\flickr_cat_000558.jpg</td>\n",
       "      <td>cat</td>\n",
       "    </tr>\n",
       "    <tr>\n",
       "      <th>497</th>\n",
       "      <td>.\\data\\train\\cat\\flickr_cat_000559.jpg</td>\n",
       "      <td>cat</td>\n",
       "    </tr>\n",
       "    <tr>\n",
       "      <th>498</th>\n",
       "      <td>.\\data\\train\\cat\\flickr_cat_000561.jpg</td>\n",
       "      <td>cat</td>\n",
       "    </tr>\n",
       "    <tr>\n",
       "      <th>499</th>\n",
       "      <td>.\\data\\train\\cat\\flickr_cat_000562.jpg</td>\n",
       "      <td>cat</td>\n",
       "    </tr>\n",
       "  </tbody>\n",
       "</table>\n",
       "<p>500 rows × 2 columns</p>\n",
       "</div>"
      ],
      "text/plain": [
       "                                  image_url class\n",
       "0    .\\data\\train\\cat\\flickr_cat_000002.jpg   cat\n",
       "1    .\\data\\train\\cat\\flickr_cat_000003.jpg   cat\n",
       "2    .\\data\\train\\cat\\flickr_cat_000004.jpg   cat\n",
       "3    .\\data\\train\\cat\\flickr_cat_000005.jpg   cat\n",
       "4    .\\data\\train\\cat\\flickr_cat_000006.jpg   cat\n",
       "..                                      ...   ...\n",
       "495  .\\data\\train\\cat\\flickr_cat_000556.jpg   cat\n",
       "496  .\\data\\train\\cat\\flickr_cat_000558.jpg   cat\n",
       "497  .\\data\\train\\cat\\flickr_cat_000559.jpg   cat\n",
       "498  .\\data\\train\\cat\\flickr_cat_000561.jpg   cat\n",
       "499  .\\data\\train\\cat\\flickr_cat_000562.jpg   cat\n",
       "\n",
       "[500 rows x 2 columns]"
      ]
     },
     "execution_count": 8,
     "metadata": {},
     "output_type": "execute_result"
    }
   ],
   "source": [
    "# ADD IMAGE INFO INTO A PANDAS DATAFRAME.\n",
    "\n",
    "df = pd.DataFrame.from_records({\"image_url\":image_paths_list})\n",
    "df[\"class\"] = \"cat\"\n",
    "df"
   ]
  },
  {
   "cell_type": "markdown",
   "id": "f2d4d2c7-91b2-4c63-89f8-8119d1031aec",
   "metadata": {
    "jp-MarkdownHeadingCollapsed": true
   },
   "source": [
    "## **Get Base64 string representation of the images**\n",
    "\n",
    "Get the Base64 string representation of the images to store along with the image metadata in database to easily preview the images."
   ]
  },
  {
   "cell_type": "code",
   "execution_count": 9,
   "id": "dd3af5b1-af0e-4372-95e0-de40e7f13755",
   "metadata": {},
   "outputs": [],
   "source": [
    "target_img_width = 256"
   ]
  },
  {
   "cell_type": "code",
   "execution_count": 10,
   "id": "445839f9-aeaf-4525-b4b2-508d976da0ce",
   "metadata": {},
   "outputs": [],
   "source": [
    "def _resize_img(img_url):\n",
    "    \"\"\"\n",
    "    Func to read & resize the image to target img size.\n",
    "    \"\"\"\n",
    "    img = Image.open(img_url)\n",
    "    img_aspect_ratio = img.width/img.height\n",
    "    target_img_height = math.floor(target_img_width*img_aspect_ratio)\n",
    "    img_resized = img.resize((target_img_width, target_img_height))\n",
    "    return img_resized\n",
    "\n",
    "\n",
    "def _convert_img_to_base64(input_img):\n",
    "    \"\"\"\n",
    "    Func to get the base64 representation of input image.\n",
    "    \"\"\"\n",
    "    # CREATE AN IN-MEMORY DATA BUFFER.\n",
    "    img_data = BytesIO()\n",
    "    # SAVE THE IMAGE DATA INTO THE BUFFER.\n",
    "    input_img.save(img_data, format=\"JPEG\")\n",
    "    # NOW GET THE BASE64 STRING & DECODE IT AS A UTF STRING.\n",
    "    base64_string = base64.b64encode(img_data.getvalue()).decode(\"utf-8\")\n",
    "    return base64_string"
   ]
  },
  {
   "cell_type": "code",
   "execution_count": 11,
   "id": "e25deb3a-1990-4807-8911-b1cdc4414b91",
   "metadata": {},
   "outputs": [
    {
     "data": {
      "text/plain": [
       "'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'"
      ]
     },
     "execution_count": 11,
     "metadata": {},
     "output_type": "execute_result"
    }
   ],
   "source": [
    "resized_imgs = list(map(lambda x: _resize_img(x), df[\"image_url\"]))\n",
    "b64_str_imgs = list(map(lambda x: _convert_img_to_base64(x), resized_imgs))\n",
    "b64_str_imgs[0]"
   ]
  },
  {
   "cell_type": "code",
   "execution_count": 13,
   "id": "3f3120fe-b35f-438a-81ce-054fded48b45",
   "metadata": {},
   "outputs": [
    {
     "data": {
      "text/html": [
       "<div>\n",
       "<style scoped>\n",
       "    .dataframe tbody tr th:only-of-type {\n",
       "        vertical-align: middle;\n",
       "    }\n",
       "\n",
       "    .dataframe tbody tr th {\n",
       "        vertical-align: top;\n",
       "    }\n",
       "\n",
       "    .dataframe thead th {\n",
       "        text-align: right;\n",
       "    }\n",
       "</style>\n",
       "<table border=\"1\" class=\"dataframe\">\n",
       "  <thead>\n",
       "    <tr style=\"text-align: right;\">\n",
       "      <th></th>\n",
       "      <th>image_url</th>\n",
       "      <th>class</th>\n",
       "      <th>base64</th>\n",
       "    </tr>\n",
       "  </thead>\n",
       "  <tbody>\n",
       "    <tr>\n",
       "      <th>0</th>\n",
       "      <td>.\\data\\train\\cat\\flickr_cat_000002.jpg</td>\n",
       "      <td>cat</td>\n",
       "      <td>/9j/4AAQSkZJRgABAQAAAQABAAD/2wBDAAgGBgcGBQgHBw...</td>\n",
       "    </tr>\n",
       "    <tr>\n",
       "      <th>1</th>\n",
       "      <td>.\\data\\train\\cat\\flickr_cat_000003.jpg</td>\n",
       "      <td>cat</td>\n",
       "      <td>/9j/4AAQSkZJRgABAQAAAQABAAD/2wBDAAgGBgcGBQgHBw...</td>\n",
       "    </tr>\n",
       "    <tr>\n",
       "      <th>2</th>\n",
       "      <td>.\\data\\train\\cat\\flickr_cat_000004.jpg</td>\n",
       "      <td>cat</td>\n",
       "      <td>/9j/4AAQSkZJRgABAQAAAQABAAD/2wBDAAgGBgcGBQgHBw...</td>\n",
       "    </tr>\n",
       "    <tr>\n",
       "      <th>3</th>\n",
       "      <td>.\\data\\train\\cat\\flickr_cat_000005.jpg</td>\n",
       "      <td>cat</td>\n",
       "      <td>/9j/4AAQSkZJRgABAQAAAQABAAD/2wBDAAgGBgcGBQgHBw...</td>\n",
       "    </tr>\n",
       "    <tr>\n",
       "      <th>4</th>\n",
       "      <td>.\\data\\train\\cat\\flickr_cat_000006.jpg</td>\n",
       "      <td>cat</td>\n",
       "      <td>/9j/4AAQSkZJRgABAQAAAQABAAD/2wBDAAgGBgcGBQgHBw...</td>\n",
       "    </tr>\n",
       "  </tbody>\n",
       "</table>\n",
       "</div>"
      ],
      "text/plain": [
       "                                image_url class  \\\n",
       "0  .\\data\\train\\cat\\flickr_cat_000002.jpg   cat   \n",
       "1  .\\data\\train\\cat\\flickr_cat_000003.jpg   cat   \n",
       "2  .\\data\\train\\cat\\flickr_cat_000004.jpg   cat   \n",
       "3  .\\data\\train\\cat\\flickr_cat_000005.jpg   cat   \n",
       "4  .\\data\\train\\cat\\flickr_cat_000006.jpg   cat   \n",
       "\n",
       "                                              base64  \n",
       "0  /9j/4AAQSkZJRgABAQAAAQABAAD/2wBDAAgGBgcGBQgHBw...  \n",
       "1  /9j/4AAQSkZJRgABAQAAAQABAAD/2wBDAAgGBgcGBQgHBw...  \n",
       "2  /9j/4AAQSkZJRgABAQAAAQABAAD/2wBDAAgGBgcGBQgHBw...  \n",
       "3  /9j/4AAQSkZJRgABAQAAAQABAAD/2wBDAAgGBgcGBQgHBw...  \n",
       "4  /9j/4AAQSkZJRgABAQAAAQABAAD/2wBDAAgGBgcGBQgHBw...  "
      ]
     },
     "execution_count": 13,
     "metadata": {},
     "output_type": "execute_result"
    }
   ],
   "source": [
    "# ADD THE BASE64 STR TO THE DATAFRAME.\n",
    "\n",
    "df[\"base64\"] = b64_str_imgs\n",
    "df.head()"
   ]
  },
  {
   "cell_type": "markdown",
   "id": "b5d0bdc1-4901-4fa7-b9b4-16b60c7a9a99",
   "metadata": {},
   "source": [
    "## **Get the Image Embeddings**\n",
    "\n",
    "Use the **HuggingFace** library to get the **ResNet50 model & image processor** & create the **image embeddings/vector** to store to the **Qdrant vector database**."
   ]
  },
  {
   "cell_type": "code",
   "execution_count": 14,
   "id": "23c76ccc-0e03-4d61-814b-b4f042df68af",
   "metadata": {},
   "outputs": [],
   "source": [
    "processor = transformers.AutoImageProcessor.from_pretrained(\"microsoft/resnet-50\")\n",
    "\n",
    "model = transformers.ResNetForImageClassification.from_pretrained(\"microsoft/resnet-50\")"
   ]
  },
  {
   "cell_type": "code",
   "execution_count": 15,
   "id": "073f6743-7098-4bbd-b25b-b515f3d93b57",
   "metadata": {},
   "outputs": [
    {
     "data": {
      "text/plain": [
       "{'pixel_values': tensor([[[[-2.0323, -2.0152, -2.0323,  ..., -1.3473, -1.3130, -1.2617],\n",
       "          [-2.0323, -2.0152, -1.9980,  ..., -1.3473, -1.3130, -1.2617],\n",
       "          [-2.0323, -1.9980, -1.9809,  ..., -1.3130, -1.3130, -1.2959],\n",
       "          ...,\n",
       "          [-1.2788, -1.3130, -1.4500,  ..., -2.1179, -2.1179, -2.1008],\n",
       "          [-1.2617, -1.3815, -1.4843,  ..., -2.1179, -2.1179, -2.1008],\n",
       "          [-1.2959, -1.4500, -1.5185,  ..., -2.1008, -2.1008, -2.0837]],\n",
       "\n",
       "         [[-1.9307, -1.9132, -1.9307,  ..., -1.3179, -1.2829, -1.2479],\n",
       "          [-1.9307, -1.9132, -1.8957,  ..., -1.3179, -1.2829, -1.2654],\n",
       "          [-1.9307, -1.8957, -1.8782,  ..., -1.2829, -1.2829, -1.2829],\n",
       "          ...,\n",
       "          [-1.1954, -1.2304, -1.3529,  ..., -2.0357, -2.0357, -2.0182],\n",
       "          [-1.1604, -1.3004, -1.3880,  ..., -2.0357, -2.0357, -2.0182],\n",
       "          [-1.1954, -1.3529, -1.4230,  ..., -2.0182, -2.0182, -2.0007]],\n",
       "\n",
       "         [[-1.7870, -1.7696, -1.7870,  ..., -1.1073, -1.0724, -1.0376],\n",
       "          [-1.7870, -1.7696, -1.7522,  ..., -1.0898, -1.0724, -1.0376],\n",
       "          [-1.7870, -1.7522, -1.7347,  ..., -1.0724, -1.0724, -1.0724],\n",
       "          ...,\n",
       "          [-1.0550, -1.0898, -1.2641,  ..., -1.8044, -1.8044, -1.8044],\n",
       "          [-1.0201, -1.1596, -1.2816,  ..., -1.8044, -1.8044, -1.8044],\n",
       "          [-1.0550, -1.2119, -1.3339,  ..., -1.8044, -1.8044, -1.8044]]],\n",
       "\n",
       "\n",
       "        [[[ 1.6324,  1.6324,  1.5982,  ...,  0.6392,  0.6734,  0.6734],\n",
       "          [ 1.6324,  1.6324,  1.6153,  ...,  0.6563,  0.6906,  0.6906],\n",
       "          [ 1.6667,  1.6495,  1.6324,  ...,  0.6734,  0.6563,  0.6563],\n",
       "          ...,\n",
       "          [ 0.7077,  0.7077,  0.7077,  ..., -1.2274, -1.4500, -1.2788],\n",
       "          [ 0.7077,  0.7077,  0.7077,  ..., -1.2959, -1.2959, -1.5870],\n",
       "          [ 0.7077,  0.7077,  0.7077,  ..., -1.3473, -1.5185, -1.4843]],\n",
       "\n",
       "         [[ 0.8704,  0.8704,  0.8354,  ...,  0.1001,  0.0826,  0.0826],\n",
       "          [ 0.8704,  0.8704,  0.8529,  ...,  0.1001,  0.1001,  0.1176],\n",
       "          [ 0.9055,  0.8880,  0.8704,  ...,  0.0651,  0.0826,  0.1176],\n",
       "          ...,\n",
       "          [ 0.3277,  0.3277,  0.3277,  ..., -1.0903, -1.3179, -1.1429],\n",
       "          [ 0.3277,  0.3277,  0.3277,  ..., -1.1604, -1.1604, -1.4580],\n",
       "          [ 0.3277,  0.3277,  0.3277,  ..., -1.2129, -1.3880, -1.3704]],\n",
       "\n",
       "         [[-0.5147, -0.5147, -0.5495,  ..., -0.9853, -1.0027, -1.0376],\n",
       "          [-0.5147, -0.5147, -0.5321,  ..., -0.8981, -0.9678, -1.0550],\n",
       "          [-0.4798, -0.4973, -0.5147,  ..., -0.8110, -0.9504, -1.0724],\n",
       "          ...,\n",
       "          [-0.4624, -0.4973, -0.4973,  ..., -0.6367, -0.8633, -0.6890],\n",
       "          [-0.4624, -0.4973, -0.4973,  ..., -0.7064, -0.7064, -1.0027],\n",
       "          [-0.4798, -0.4973, -0.4973,  ..., -0.7587, -0.9330, -0.8981]]],\n",
       "\n",
       "\n",
       "        [[[-0.6965, -1.2274, -1.1760,  ...,  0.6392,  0.6392,  0.6392],\n",
       "          [-0.0116, -1.0219, -1.2445,  ...,  0.6563,  0.6563,  0.6563],\n",
       "          [ 0.8447, -0.6109, -1.2274,  ...,  0.6221,  0.6221,  0.6221],\n",
       "          ...,\n",
       "          [-0.6452, -0.7479, -0.6109,  ..., -1.1418, -0.9534, -0.8678],\n",
       "          [-0.8335, -0.6281, -0.3712,  ..., -0.9534, -1.0562, -1.0733],\n",
       "          [-0.6452, -0.5596, -0.5938,  ..., -1.2103, -1.1247, -1.1589]],\n",
       "\n",
       "         [[-0.8627, -1.2654, -1.1429,  ...,  0.2577,  0.2577,  0.2577],\n",
       "          [-0.2500, -1.0903, -1.1954,  ...,  0.2752,  0.2752,  0.2752],\n",
       "          [ 0.5728, -0.7402, -1.2479,  ...,  0.2402,  0.2402,  0.2402],\n",
       "          ...,\n",
       "          [-0.4251, -0.5301, -0.3725,  ..., -1.0728, -0.8803, -0.7752],\n",
       "          [-0.6352, -0.4076, -0.1275,  ..., -0.8803, -0.9853, -1.0028],\n",
       "          [-0.4601, -0.3550, -0.3901,  ..., -1.1253, -1.0553, -1.0903]],\n",
       "\n",
       "         [[-1.0376, -1.1944, -0.9504,  ..., -0.6018, -0.6018, -0.6018],\n",
       "          [-0.5844, -1.1073, -1.0027,  ..., -0.5844, -0.5844, -0.5844],\n",
       "          [ 0.0953, -0.8807, -1.1247,  ..., -0.6193, -0.6193, -0.6193],\n",
       "          ...,\n",
       "          [ 0.1302,  0.0256,  0.1651,  ..., -0.6541, -0.4624, -0.3927],\n",
       "          [-0.0790,  0.1476,  0.4091,  ..., -0.4624, -0.5670, -0.6018],\n",
       "          [ 0.0779,  0.1999,  0.1651,  ..., -0.7238, -0.6541, -0.6890]]],\n",
       "\n",
       "\n",
       "        ...,\n",
       "\n",
       "\n",
       "        [[[ 0.5193,  0.5536,  0.5707,  ...,  0.5193,  0.5022,  0.4851],\n",
       "          [ 0.5022,  0.5193,  0.5364,  ...,  0.5364,  0.5193,  0.4851],\n",
       "          [ 0.5193,  0.5364,  0.5536,  ...,  0.5707,  0.5193,  0.4851],\n",
       "          ...,\n",
       "          [ 1.1015,  1.1187,  1.1529,  ..., -0.6281, -1.0733, -1.0219],\n",
       "          [ 1.0673,  1.0673,  1.0331,  ..., -0.8849, -1.0219, -0.9534],\n",
       "          [ 1.0159,  1.0502,  1.1015,  ..., -0.8164, -0.8335, -0.8849]],\n",
       "\n",
       "         [[ 0.6429,  0.6779,  0.6954,  ...,  0.6604,  0.6429,  0.6254],\n",
       "          [ 0.6429,  0.6604,  0.6779,  ...,  0.6779,  0.6604,  0.6254],\n",
       "          [ 0.6604,  0.6779,  0.6954,  ...,  0.7129,  0.6604,  0.6254],\n",
       "          ...,\n",
       "          [ 1.3256,  1.3431,  1.3782,  ..., -0.5826, -1.0378, -0.9853],\n",
       "          [ 1.2906,  1.2906,  1.2556,  ..., -0.8452, -0.9853, -0.9153],\n",
       "          [ 1.2381,  1.2731,  1.3256,  ..., -0.7752, -0.7927, -0.8452]],\n",
       "\n",
       "         [[ 0.7402,  0.7751,  0.7925,  ...,  0.8448,  0.8274,  0.8099],\n",
       "          [ 0.7228,  0.7402,  0.7576,  ...,  0.8622,  0.8448,  0.8099],\n",
       "          [ 0.7402,  0.7576,  0.7751,  ...,  0.8971,  0.8448,  0.8099],\n",
       "          ...,\n",
       "          [ 1.5942,  1.6117,  1.6465,  ..., -0.4101, -0.8633, -0.8110],\n",
       "          [ 1.5594,  1.5594,  1.5245,  ..., -0.6715, -0.8110, -0.7413],\n",
       "          [ 1.5071,  1.5420,  1.5942,  ..., -0.6018, -0.6193, -0.6541]]],\n",
       "\n",
       "\n",
       "        [[[-1.4843, -1.3987, -1.2103,  ..., -0.1657, -0.0629,  0.0569],\n",
       "          [-1.4500, -1.3815, -1.2274,  ...,  0.0398,  0.1083,  0.1939],\n",
       "          [-1.4158, -1.3644, -1.2274,  ...,  0.2111,  0.2796,  0.3309],\n",
       "          ...,\n",
       "          [ 1.7180,  1.7180,  1.7352,  ..., -0.0629, -0.0116, -0.1828],\n",
       "          [ 1.7009,  1.6838,  1.7180,  ..., -0.2684, -0.3369, -0.2513],\n",
       "          [ 1.7180,  1.6495,  1.6495,  ..., -0.2342, -0.4739, -0.3712]],\n",
       "\n",
       "         [[-1.4405, -1.3529, -1.1779,  ...,  0.0651,  0.1352,  0.2227],\n",
       "          [-1.4055, -1.3354, -1.2129,  ...,  0.2052,  0.2577,  0.3277],\n",
       "          [-1.3880, -1.3354, -1.2129,  ...,  0.3627,  0.3978,  0.4503],\n",
       "          ...,\n",
       "          [ 1.5532,  1.5532,  1.5707,  ..., -0.1099,  0.0126, -0.1625],\n",
       "          [ 1.5357,  1.5182,  1.5532,  ..., -0.3025, -0.3375, -0.2325],\n",
       "          [ 1.5357,  1.4832,  1.4832,  ..., -0.2500, -0.4601, -0.3375]],\n",
       "\n",
       "         [[-1.4384, -1.4036, -1.2816,  ...,  0.6008,  0.6879,  0.7751],\n",
       "          [-1.4036, -1.4036, -1.2990,  ...,  0.7402,  0.8099,  0.8797],\n",
       "          [-1.3687, -1.3687, -1.2990,  ...,  0.8622,  0.9494,  0.9668],\n",
       "          ...,\n",
       "          [ 1.6465,  1.6465,  1.6640,  ...,  0.2173,  0.3045,  0.1302],\n",
       "          [ 1.6291,  1.6117,  1.6465,  ...,  0.0082, -0.0267,  0.0605],\n",
       "          [ 1.6291,  1.5768,  1.5768,  ...,  0.0605, -0.1661, -0.0441]]],\n",
       "\n",
       "\n",
       "        [[[ 0.3309,  0.2111,  0.0741,  ...,  1.0844,  1.1015,  1.1529],\n",
       "          [ 0.3652,  0.2796,  0.1426,  ...,  0.8104,  1.2728,  1.1529],\n",
       "          [ 0.4337,  0.3481,  0.2111,  ...,  0.8447,  1.3927,  1.2899],\n",
       "          ...,\n",
       "          [ 1.8722,  1.9235,  1.9407,  ..., -0.6281, -0.4911, -0.3198],\n",
       "          [ 1.8550,  1.9578,  1.8893,  ..., -0.8507, -0.7137, -1.0390],\n",
       "          [ 2.1633,  2.0948,  2.0948,  ..., -0.7308, -0.6794, -0.6623]],\n",
       "\n",
       "         [[ 0.8179,  0.7479,  0.6604,  ...,  0.5203,  0.5728,  0.6078],\n",
       "          [ 0.8704,  0.7829,  0.6954,  ...,  0.2752,  0.7829,  0.6078],\n",
       "          [ 0.9055,  0.8354,  0.7829,  ...,  0.2927,  0.8880,  0.7479],\n",
       "          ...,\n",
       "          [ 1.6232,  1.6408,  1.6408,  ..., -1.1429, -1.0203, -0.8627],\n",
       "          [ 1.5357,  1.6232,  1.5357,  ..., -1.4405, -1.2829, -1.6506],\n",
       "          [ 1.7808,  1.6933,  1.6758,  ..., -1.4055, -1.3179, -1.3179]],\n",
       "\n",
       "         [[ 1.4897,  1.4374,  1.3154,  ...,  0.3045,  0.3393,  0.3916],\n",
       "          [ 1.5420,  1.4722,  1.3677,  ...,  0.0431,  0.5485,  0.4091],\n",
       "          [ 1.6117,  1.5420,  1.4374,  ...,  0.0779,  0.6705,  0.5659],\n",
       "          ...,\n",
       "          [ 1.4897,  1.5071,  1.4897,  ..., -1.3513, -1.1770, -0.9853],\n",
       "          [ 1.3677,  1.4374,  1.3502,  ..., -1.6476, -1.5081, -1.8044],\n",
       "          [ 1.5420,  1.4374,  1.4025,  ..., -1.7173, -1.5953, -1.5256]]]])}"
      ]
     },
     "execution_count": 15,
     "metadata": {},
     "output_type": "execute_result"
    }
   ],
   "source": [
    "# USE THE PROCESSER TO PREPROCESS THE IMAGES TO FEED TO THE MODEL.\n",
    "# MAKE SURE WE ARE GETTING PYTORCH TENSORS.\n",
    "\n",
    "img_arr = list(map(lambda x: Image.open(x), df[\"image_url\"]))\n",
    "inputs = processor(img_arr, return_tensors=\"pt\")\n",
    "inputs"
   ]
  },
  {
   "cell_type": "code",
   "execution_count": 16,
   "id": "f2fba18b-7b09-44eb-b700-2e2761ecec5f",
   "metadata": {},
   "outputs": [
    {
     "data": {
      "text/plain": [
       "tensor([[ -9.6352,  -9.4262, -10.2460,  ..., -10.0749,  -7.8997,  -7.9130],\n",
       "        [-10.3421, -10.4569,  -9.0297,  ..., -10.2345,  -7.2185,  -8.6766],\n",
       "        [ -9.8300, -10.0813,  -9.1084,  ...,  -9.8337,  -6.7303,  -8.7567],\n",
       "        ...,\n",
       "        [-10.2846, -11.3560, -11.8803,  ..., -10.7743,  -9.4936,  -9.5280],\n",
       "        [ -9.0091,  -9.5881, -10.0701,  ...,  -9.2243,  -6.9953,  -8.5236],\n",
       "        [-10.3323, -10.1665, -10.1962,  ...,  -9.6034,  -8.5874,  -7.2812]],\n",
       "       grad_fn=<AddmmBackward0>)"
      ]
     },
     "execution_count": 16,
     "metadata": {},
     "output_type": "execute_result"
    }
   ],
   "source": [
    "# GET THE IMAGE EMBEDDINGS USING THE MODEL.\n",
    "# '**' IS USED TO UNPACK THE DICTIONARY. \n",
    "# READ MORE ABOUT IT HERE IF YOU LIKE: https://gaurav-patil21.medium.com/use-of-double-asterisk-in-python-962e83b63768\n",
    "\n",
    "outputs = model(**inputs)\n",
    "embeddings = outputs.logits\n",
    "embeddings"
   ]
  },
  {
   "cell_type": "markdown",
   "id": "a5646037-8850-4bfc-9b83-109874ed4cf1",
   "metadata": {},
   "source": [
    "## **Upload the Image Embeddings to Qdrant.**"
   ]
  },
  {
   "cell_type": "code",
   "execution_count": 17,
   "id": "29cc7199-65a9-4ca4-9e88-dc0138c80fb9",
   "metadata": {},
   "outputs": [
    {
     "data": {
      "text/plain": [
       "500"
      ]
     },
     "execution_count": 17,
     "metadata": {},
     "output_type": "execute_result"
    }
   ],
   "source": [
    "# CHECK THE LENGTH OF EMBEDDINGS ARRAY.\n",
    "\n",
    "len(embeddings)"
   ]
  },
  {
   "cell_type": "code",
   "execution_count": 18,
   "id": "e2a8a490-16e8-4a0e-ad8b-aa9cd1451fba",
   "metadata": {},
   "outputs": [
    {
     "data": {
      "text/plain": [
       "1000"
      ]
     },
     "execution_count": 18,
     "metadata": {},
     "output_type": "execute_result"
    }
   ],
   "source": [
    "# GET THE EMBEDDING DIMENSION.\n",
    "\n",
    "embedding_len = len(embeddings[0])\n",
    "embedding_len"
   ]
  },
  {
   "cell_type": "code",
   "execution_count": 20,
   "id": "db40e621-fe96-44a6-a945-5db1ce210498",
   "metadata": {},
   "outputs": [
    {
     "data": {
      "text/plain": [
       "<qdrant_client.qdrant_client.QdrantClient at 0x1d5813002e0>"
      ]
     },
     "execution_count": 20,
     "metadata": {},
     "output_type": "execute_result"
    }
   ],
   "source": [
    "# INIT THE QDRANT CLIENT USING THE ENV VARS.\n",
    "\n",
    "qclient = qdrant_client.QdrantClient(\n",
    "    url=QDRANT_DB_URL,\n",
    "    api_key=QDRANT_API_KEY\n",
    ")\n",
    "\n",
    "qclient"
   ]
  },
  {
   "cell_type": "code",
   "execution_count": 25,
   "id": "3c849908-a0a1-41f2-8a23-0e581259fb0e",
   "metadata": {},
   "outputs": [
    {
     "name": "stderr",
     "output_type": "stream",
     "text": [
      "C:\\Users\\ramrs\\AppData\\Local\\Temp\\ipykernel_11940\\1252961435.py:5: DeprecationWarning: `recreate_collection` method is deprecated and will be removed in the future. Use `collection_exists` to check collection existence and `create_collection` instead.\n",
      "  collection_obj = qclient.recreate_collection(\n"
     ]
    },
    {
     "data": {
      "text/plain": [
       "True"
      ]
     },
     "execution_count": 25,
     "metadata": {},
     "output_type": "execute_result"
    }
   ],
   "source": [
    "# CREATE A COLLECTION TO STORE VECTOR & PAYLOAD (META DATA)\n",
    "# EMBEDDING SIZE IS BASED ON THE ENCODER USED IN THIS PROJECT - RESNET50.\n",
    "\n",
    "collection_name = \"animal_images\"\n",
    "\n",
    "collection_obj = qclient.recreate_collection(\n",
    "    collection_name=collection_name,\n",
    "    vectors_config=qdrant_models.VectorParams(\n",
    "        size=embedding_len, \n",
    "        distance=qdrant_models.Distance.COSINE\n",
    "    )\n",
    ")\n",
    "\n",
    "collection_obj"
   ]
  },
  {
   "cell_type": "code",
   "execution_count": 27,
   "id": "01d8289d-2750-41ec-b40f-0da1e2c444d0",
   "metadata": {},
   "outputs": [
    {
     "data": {
      "text/html": [
       "<div>\n",
       "<style scoped>\n",
       "    .dataframe tbody tr th:only-of-type {\n",
       "        vertical-align: middle;\n",
       "    }\n",
       "\n",
       "    .dataframe tbody tr th {\n",
       "        vertical-align: top;\n",
       "    }\n",
       "\n",
       "    .dataframe thead th {\n",
       "        text-align: right;\n",
       "    }\n",
       "</style>\n",
       "<table border=\"1\" class=\"dataframe\">\n",
       "  <thead>\n",
       "    <tr style=\"text-align: right;\">\n",
       "      <th></th>\n",
       "      <th>image_url</th>\n",
       "      <th>class</th>\n",
       "      <th>base64</th>\n",
       "    </tr>\n",
       "  </thead>\n",
       "  <tbody>\n",
       "    <tr>\n",
       "      <th>0</th>\n",
       "      <td>.\\data\\train\\cat\\flickr_cat_000002.jpg</td>\n",
       "      <td>cat</td>\n",
       "      <td>/9j/4AAQSkZJRgABAQAAAQABAAD/2wBDAAgGBgcGBQgHBw...</td>\n",
       "    </tr>\n",
       "    <tr>\n",
       "      <th>1</th>\n",
       "      <td>.\\data\\train\\cat\\flickr_cat_000003.jpg</td>\n",
       "      <td>cat</td>\n",
       "      <td>/9j/4AAQSkZJRgABAQAAAQABAAD/2wBDAAgGBgcGBQgHBw...</td>\n",
       "    </tr>\n",
       "    <tr>\n",
       "      <th>2</th>\n",
       "      <td>.\\data\\train\\cat\\flickr_cat_000004.jpg</td>\n",
       "      <td>cat</td>\n",
       "      <td>/9j/4AAQSkZJRgABAQAAAQABAAD/2wBDAAgGBgcGBQgHBw...</td>\n",
       "    </tr>\n",
       "    <tr>\n",
       "      <th>3</th>\n",
       "      <td>.\\data\\train\\cat\\flickr_cat_000005.jpg</td>\n",
       "      <td>cat</td>\n",
       "      <td>/9j/4AAQSkZJRgABAQAAAQABAAD/2wBDAAgGBgcGBQgHBw...</td>\n",
       "    </tr>\n",
       "    <tr>\n",
       "      <th>4</th>\n",
       "      <td>.\\data\\train\\cat\\flickr_cat_000006.jpg</td>\n",
       "      <td>cat</td>\n",
       "      <td>/9j/4AAQSkZJRgABAQAAAQABAAD/2wBDAAgGBgcGBQgHBw...</td>\n",
       "    </tr>\n",
       "  </tbody>\n",
       "</table>\n",
       "</div>"
      ],
      "text/plain": [
       "                                image_url class  \\\n",
       "0  .\\data\\train\\cat\\flickr_cat_000002.jpg   cat   \n",
       "1  .\\data\\train\\cat\\flickr_cat_000003.jpg   cat   \n",
       "2  .\\data\\train\\cat\\flickr_cat_000004.jpg   cat   \n",
       "3  .\\data\\train\\cat\\flickr_cat_000005.jpg   cat   \n",
       "4  .\\data\\train\\cat\\flickr_cat_000006.jpg   cat   \n",
       "\n",
       "                                              base64  \n",
       "0  /9j/4AAQSkZJRgABAQAAAQABAAD/2wBDAAgGBgcGBQgHBw...  \n",
       "1  /9j/4AAQSkZJRgABAQAAAQABAAD/2wBDAAgGBgcGBQgHBw...  \n",
       "2  /9j/4AAQSkZJRgABAQAAAQABAAD/2wBDAAgGBgcGBQgHBw...  \n",
       "3  /9j/4AAQSkZJRgABAQAAAQABAAD/2wBDAAgGBgcGBQgHBw...  \n",
       "4  /9j/4AAQSkZJRgABAQAAAQABAAD/2wBDAAgGBgcGBQgHBw...  "
      ]
     },
     "execution_count": 27,
     "metadata": {},
     "output_type": "execute_result"
    }
   ],
   "source": [
    "df.head()"
   ]
  },
  {
   "cell_type": "code",
   "execution_count": 29,
   "id": "3833d1a0-ecf1-4631-b4ff-e9329915f755",
   "metadata": {},
   "outputs": [
    {
     "data": {
      "text/plain": [
       "{'image_url': '.\\\\data\\\\train\\\\cat\\\\flickr_cat_000002.jpg',\n",
       " 'class': 'cat',\n",
       " 'base64': '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'}"
      ]
     },
     "execution_count": 29,
     "metadata": {},
     "output_type": "execute_result"
    }
   ],
   "source": [
    "# CONVERT OUR 'DATAFRAME' TO 'ARRAY OF OBJECTS' TO PASS AS PAYLOAD.\n",
    "\n",
    "payload_arr = df.to_dict(\"records\")\n",
    "payload_arr[0]"
   ]
  },
  {
   "cell_type": "code",
   "execution_count": 30,
   "id": "027122fb-6df0-4260-85a3-e625e4997c5f",
   "metadata": {},
   "outputs": [
    {
     "data": {
      "text/plain": [
       "Record(id=0, payload={'image_url': '.\\\\data\\\\train\\\\cat\\\\flickr_cat_000002.jpg', 'class': 'cat', 'base64': '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'}, vector=[-9.635184288024902, -9.426193237304688, -10.246014595031738, -11.730365753173828, -10.909804344177246, -9.932339668273926, -10.143821716308594, -9.996927261352539, -9.57362174987793, -10.49105453491211, -9.247005462646484, -10.042485237121582, -10.021377563476562, -10.847441673278809, -10.051898002624512, -8.897489547729492, -10.286067962646484, -10.230300903320312, -9.730422019958496, -9.788570404052734, -9.557037353515625, -9.835865020751953, -10.8480806350708, -9.271341323852539, -10.35075855255127, -11.038179397583008, -9.051740646362305, -9.777605056762695, -10.653457641601562, -9.436600685119629, -10.131248474121094, -10.487619400024414, -9.737900733947754, -10.970248222351074, -8.2997465133667, -10.887126922607422, -9.843473434448242, -9.726289749145508, -10.246707916259766, -9.838326454162598, -10.478805541992188, -9.60089111328125, -9.804520606994629, -10.317656517028809, -10.24854850769043, -9.967211723327637, -10.60876178741455, -10.144908905029297, -10.026447296142578, -10.00585651397705, -9.23721694946289, -10.15750789642334, -9.685965538024902, -9.596960067749023, -9.859697341918945, -11.678512573242188, -10.236989974975586, -11.255173683166504, -9.666200637817383, -10.088971138000488, -9.9326171875, -10.378385543823242, -9.818754196166992, -9.965264320373535, -10.8828763961792, -11.260139465332031, -10.698050498962402, -9.7676420211792, -10.15864372253418, -10.524151802062988, -11.618419647216797, -9.764732360839844, -10.631842613220215, -9.402093887329102, -10.62327766418457, -10.095258712768555, -9.436687469482422, -10.381275177001953, -8.675512313842773, -9.049516677856445, -8.664529800415039, -10.391067504882812, -9.17673397064209, -8.959221839904785, -9.950983047485352, -9.549304962158203, -9.970992088317871, -10.517233848571777, -9.1943359375, -8.7742919921875, -9.587502479553223, -9.979361534118652, -10.288408279418945, -9.857146263122559, -10.573304176330566, -9.616894721984863, -10.090609550476074, -9.758349418640137, -10.024224281311035, -10.082983016967773, -10.369545936584473, -10.54334545135498, -10.424965858459473, -8.878034591674805, -11.244444847106934, -9.925808906555176, -10.314682006835938, -11.012418746948242, -10.150833129882812, -11.5826997756958, -11.546018600463867, -9.407464027404785, -8.881107330322266, -9.884085655212402, -10.038389205932617, -11.031412124633789, -11.03412914276123, -9.29468822479248, -8.729104995727539, -8.847107887268066, -9.559447288513184, -8.645533561706543, -10.202188491821289, -10.318452835083008, -8.553642272949219, -11.126690864562988, -9.5214204788208, -10.439288139343262, -10.518226623535156, -10.083169937133789, -10.506547927856445, -10.033230781555176, -9.781885147094727, -9.576746940612793, -10.657694816589355, -10.185688972473145, -9.815911293029785, -8.98884105682373, -10.625140190124512, -8.185694694519043, -10.368792533874512, -9.414050102233887, -9.124785423278809, -9.9226713180542, -9.81181526184082, -9.888023376464844, -9.923173904418945, -10.338078498840332, -10.366067886352539, -11.223949432373047, -8.762527465820312, -8.396801948547363, -8.260207176208496, -8.691179275512695, -9.154867172241211, -9.629855155944824, -9.592963218688965, -8.82622241973877, -10.106209754943848, -9.122451782226562, -10.498499870300293, -8.93862247467041, -9.12781810760498, -8.534337043762207, -10.645577430725098, -11.721884727478027, -10.965804100036621, -10.069942474365234, -8.663531303405762, -9.30033016204834, -10.373512268066406, -9.98997688293457, -9.653919219970703, -9.423297882080078, -11.246394157409668, -9.251191139221191, -9.838220596313477, -10.689327239990234, -8.055331230163574, -8.671603202819824, -9.721660614013672, -10.066911697387695, -10.541475296020508, -10.244898796081543, -10.166084289550781, -9.969484329223633, -10.299036026000977, -9.828046798706055, -9.438183784484863, -9.72243881225586, -9.759772300720215, -10.179008483886719, -9.803394317626953, -8.320089340209961, -9.814818382263184, -8.566441535949707, -9.804478645324707, -10.204574584960938, -10.26173210144043, -8.702208518981934, -10.159990310668945, -10.19641399383545, -10.261119842529297, -8.962080001831055, -10.514165878295898, -9.029579162597656, -9.632737159729004, -9.135930061340332, -9.34666919708252, -9.598722457885742, -10.08918285369873, -7.780895709991455, -10.201375961303711, -10.288718223571777, -9.116157531738281, -9.611837387084961, -9.661050796508789, -9.823829650878906, -10.079864501953125, -9.648598670959473, -9.078301429748535, -8.501016616821289, -9.447169303894043, -9.466714859008789, -8.78411865234375, -10.1752290725708, -11.616764068603516, -10.808825492858887, -10.431766510009766, -9.490002632141113, -9.372310638427734, -9.290274620056152, -9.25125503540039, -9.8407564163208, -9.585260391235352, -10.111455917358398, -10.039950370788574, -9.678138732910156, -9.987194061279297, -10.209009170532227, -9.89677906036377, -10.385583877563477, -8.717876434326172, -9.4841890335083, -9.662568092346191, -10.17402458190918, -9.32988452911377, -9.335247039794922, -10.3095703125, -10.603189468383789, -10.62316608428955, -9.271533966064453, -9.068882942199707, -9.947061538696289, -8.617915153503418, -11.591873168945312, -10.025813102722168, -9.259796142578125, -10.222701072692871, -8.908376693725586, -9.439413070678711, -8.978656768798828, -9.46397876739502, -10.489276885986328, -10.702030181884766, -7.990146636962891, -9.81596565246582, -9.209053039550781, -8.928680419921875, -10.855443954467773, -10.956768989562988, -10.314295768737793, -10.028735160827637, -8.976689338684082, -10.524595260620117, -11.404037475585938, -10.956621170043945, -10.188719749450684, -10.921255111694336, -9.407577514648438, -8.438360214233398, 2.859978437423706, -1.5571181774139404, -5.939150810241699, -6.886352062225342, -3.8981008529663086, -8.058245658874512, -3.6532070636749268, -8.252517700195312, -8.784180641174316, -8.470605850219727, -10.900554656982422, -8.302287101745605, -10.815938949584961, -12.459003448486328, -11.788267135620117, -10.63359260559082, -10.881893157958984, -9.845951080322266, -8.337570190429688, -9.700695037841797, -10.927543640136719, -8.903857231140137, -9.269859313964844, -10.614025115966797, -9.993968963623047, -8.598396301269531, -10.79858112335205, -10.785347938537598, -10.556801795959473, -10.798080444335938, -10.877842903137207, -10.172811508178711, -9.569409370422363, -9.421385765075684, -10.143230438232422, -10.779439926147461, -10.939692497253418, -11.138509750366211, -11.5521821975708, -10.385927200317383, -11.667022705078125, -10.656041145324707, -11.268037796020508, -10.614850044250488, -10.933573722839355, -11.399979591369629, -10.751866340637207, -10.146546363830566, -11.6881742477417, -9.869696617126465, -9.387381553649902, -7.437396049499512, -9.11031723022461, -9.7966947555542, -10.91135025024414, -11.424028396606445, -9.063760757446289, -9.782027244567871, -11.488554000854492, -10.535347938537598, -8.559502601623535, -10.028786659240723, -9.48716926574707, -10.450190544128418, -10.302053451538086, -10.037839889526367, -10.798160552978516, -10.867777824401855, -11.27780532836914, -11.95617961883545, -9.792524337768555, -9.918946266174316, -9.557719230651855, -10.089262008666992, -10.938422203063965, -8.41290283203125, -8.500591278076172, -7.875210285186768, -8.97355842590332, -9.221357345581055, -9.850479125976562, -9.241171836853027, -9.298778533935547, -11.23568344116211, -8.979548454284668, -10.210765838623047, -9.154987335205078, -11.377606391906738, -10.779426574707031, -9.080891609191895, -9.159506797790527, -10.544174194335938, -10.360455513000488, -9.980874061584473, -11.361050605773926, -11.128931045532227, -10.233778953552246, -10.120076179504395, -9.697867393493652, -8.224059104919434, -8.797502517700195, -9.666984558105469, -11.278979301452637, -10.036620140075684, -10.251999855041504, -10.905301094055176, -11.863227844238281, -11.970354080200195, -10.517523765563965, -11.108405113220215, -8.907483100891113, -11.241275787353516, -11.130642890930176, -9.336515426635742, -9.493416786193848, -10.800420761108398, -11.637343406677246, -8.415395736694336, -9.293611526489258, -9.872255325317383, -8.57513427734375, -8.593862533569336, -11.214982986450195, -9.615033149719238, -9.292732238769531, -10.655783653259277, -10.740605354309082, -10.648691177368164, -8.886870384216309, -10.013449668884277, -9.131707191467285, -7.737707138061523, -9.7090425491333, -7.859678745269775, -8.667584419250488, -9.331968307495117, -7.7686872482299805, -8.696462631225586, -8.818984031677246, -9.219683647155762, -9.019584655761719, -10.12895679473877, -9.908506393432617, -9.721427917480469, -11.105086326599121, -8.917572021484375, -9.816566467285156, -8.620362281799316, -8.816415786743164, -10.485426902770996, -8.697278022766113, -10.447274208068848, -10.185437202453613, -9.260369300842285, -7.6555609703063965, -10.602266311645508, -9.237407684326172, -7.651069164276123, -9.22951889038086, -9.83144474029541, -7.5593109130859375, -10.48981761932373, -8.805710792541504, -11.128355026245117, -9.727331161499023, -8.574165344238281, -10.16722297668457, -10.393424034118652, -11.471582412719727, -10.6127347946167, -9.488740921020508, -8.387410163879395, -8.027831077575684, -9.133707046508789, -9.797235488891602, -9.4621000289917, -7.243275165557861, -9.082615852355957, -8.821410179138184, -11.009664535522461, -9.82526683807373, -9.0140962600708, -7.037095546722412, -9.039177894592285, -9.763097763061523, -10.241767883300781, -9.251020431518555, -11.406336784362793, -5.354195594787598, -8.453676223754883, -9.540270805358887, -11.018976211547852, -8.759446144104004, -9.27458381652832, -9.37162971496582, -9.42369556427002, -9.846439361572266, -5.9293951988220215, -8.60302734375, -8.386808395385742, -8.33277702331543, -9.038508415222168, -11.792860984802246, -10.449978828430176, -9.79357624053955, -10.103660583496094, -7.180613994598389, -9.217622756958008, -10.658028602600098, -8.457488059997559, -11.193859100341797, -9.858866691589355, -9.32522201538086, -9.861089706420898, -9.476703643798828, -9.128785133361816, -10.25399398803711, -10.153347969055176, -8.942719459533691, -11.723006248474121, -9.047115325927734, -9.551456451416016, -9.571295738220215, -8.819794654846191, -8.494674682617188, -9.155352592468262, -9.320454597473145, -7.022393226623535, -9.571054458618164, -9.994274139404297, -9.995606422424316, -9.47353458404541, -8.300037384033203, -8.182884216308594, -8.96822452545166, -8.274595260620117, -9.935572624206543, -9.11945915222168, -7.531594276428223, -8.677641868591309, -8.979087829589844, -8.986751556396484, -10.307815551757812, -8.746463775634766, -10.640499114990234, -9.01185417175293, -8.014819145202637, -10.797279357910156, -8.770589828491211, -8.82596206665039, -8.853940963745117, -8.1146821975708, -11.233297348022461, -7.926866054534912, -8.188486099243164, -11.894536972045898, -11.34921932220459, -9.658102989196777, -6.277375221252441, -11.29184627532959, -8.720845222473145, -8.48421573638916, -8.29936695098877, -9.388952255249023, -9.033367156982422, -9.469474792480469, -13.431336402893066, -9.596396446228027, -9.47858715057373, -10.029800415039062, -8.659796714782715, -6.919407844543457, -8.544710159301758, -10.346640586853027, -11.60042953491211, -8.75062370300293, -9.252884864807129, -8.887784004211426, -8.480224609375, -10.054919242858887, -10.999258995056152, -9.288467407226562, -9.544952392578125, -9.256610870361328, -10.90659236907959, -9.448917388916016, -8.392547607421875, -9.291632652282715, -10.846826553344727, -10.463521957397461, -10.775664329528809, -7.8652143478393555, -11.785592079162598, -8.391221046447754, -10.708050727844238, -9.85893440246582, -8.97578239440918, -8.599748611450195, -9.984572410583496, -9.739238739013672, -10.3704252243042, -8.045769691467285, -9.573271751403809, -9.695280075073242, -8.344579696655273, -9.869873046875, -8.379829406738281, -7.824856281280518, -9.262864112854004, -8.308409690856934, -9.297982215881348, -6.9243316650390625, -8.607596397399902, -9.350059509277344, -10.414795875549316, -9.553853034973145, -9.714111328125, -10.478096008300781, -9.93585205078125, -9.107575416564941, -8.503389358520508, -10.392505645751953, -11.862944602966309, -8.954463958740234, -7.879222393035889, -7.652316570281982, -8.513509750366211, -9.823413848876953, -11.177258491516113, -9.520499229431152, -8.655344009399414, -11.796011924743652, -9.509031295776367, -9.077853202819824, -9.432489395141602, -10.12683391571045, -9.780932426452637, -7.892306804656982, -8.05634593963623, -7.86131477355957, -10.77569580078125, -6.80751895904541, -9.6580810546875, -8.360706329345703, -11.153465270996094, -8.630620956420898, -9.430150985717773, -11.209518432617188, -8.548237800598145, -9.292595863342285, -8.994592666625977, -10.29626178741455, -9.373383522033691, -8.79760456085205, -10.1644287109375, -7.48909854888916, -9.244612693786621, -8.753747940063477, -9.757342338562012, -10.343518257141113, -9.746819496154785, -9.423236846923828, -9.05215835571289, -7.885905742645264, -9.875673294067383, -8.88481616973877, -8.926673889160156, -9.511171340942383, -10.371198654174805, -8.549897193908691, -9.346248626708984, -10.819703102111816, -8.61462688446045, -10.35151481628418, -9.406035423278809, -10.954771995544434, -9.902809143066406, -8.913909912109375, -6.866222381591797, -10.323204040527344, -11.643401145935059, -8.754515647888184, -11.853971481323242, -8.022238731384277, -9.878293991088867, -9.216182708740234, -10.073079109191895, -10.492877960205078, -8.682355880737305, -9.32870101928711, -9.801530838012695, -9.269415855407715, -7.771808624267578, -8.768051147460938, -9.500494956970215, -8.236282348632812, -9.941581726074219, -9.575428009033203, -8.775303840637207, -8.771199226379395, -7.055747985839844, -9.49782657623291, -9.651455879211426, -9.919669151306152, -9.068530082702637, -8.73283576965332, -9.995421409606934, -8.89761734008789, -9.525647163391113, -9.976309776306152, -9.393977165222168, -8.235358238220215, -9.86536979675293, -9.521181106567383, -9.550591468811035, -8.571162223815918, -9.06995964050293, -11.097315788269043, -8.884199142456055, -7.055257797241211, -9.909249305725098, -10.694294929504395, -10.277212142944336, -10.476731300354004, -11.717971801757812, -11.27296257019043, -9.384778022766113, -8.841607093811035, -9.454381942749023, -9.36862850189209, -8.242571830749512, -8.284923553466797, -7.824666500091553, -8.360873222351074, -10.14616870880127, -9.418191909790039, -11.297955513000488, -10.469054222106934, -10.05378246307373, -6.9135308265686035, -7.547715663909912, -7.408118724822998, -8.678679466247559, -11.901028633117676, -7.930426597595215, -10.559612274169922, -9.733209609985352, -6.717238903045654, -9.706498146057129, -9.203041076660156, -8.355705261230469, -10.518239974975586, -8.681310653686523, -11.656349182128906, -9.026507377624512, -10.583630561828613, -6.736868858337402, -8.6146879196167, -9.680233001708984, -8.111084938049316, -10.227492332458496, -8.005792617797852, -10.107122421264648, -9.328805923461914, -8.633021354675293, -8.92798900604248, -8.12843132019043, -9.54299545288086, -8.712623596191406, -7.502538681030273, -10.494739532470703, -9.814257621765137, -7.17338228225708, -8.183212280273438, -8.17676830291748, -8.900145530700684, -10.422323226928711, -9.622467041015625, -8.738483428955078, -6.937533378601074, -5.654035568237305, -9.486686706542969, -8.110033988952637, -8.622125625610352, -9.717971801757812, -8.553521156311035, -8.690154075622559, -9.695651054382324, -7.249154567718506, -9.32578182220459, -10.96984577178955, -8.9693021774292, -9.304831504821777, -9.2547607421875, -9.269230842590332, -9.276067733764648, -9.819372177124023, -8.380500793457031, -10.9232177734375, -9.582443237304688, -10.642492294311523, -7.940084934234619, -8.848981857299805, -8.880619049072266, -9.283915519714355, -9.810669898986816, -8.626381874084473, -10.840601921081543, -8.95664119720459, -8.02942943572998, -10.186174392700195, -8.462928771972656, -7.854968547821045, -7.696805953979492, -11.082962036132812, -9.509737014770508, -8.194710731506348, -9.596428871154785, -9.30778980255127, -10.511836051940918, -10.351910591125488, -10.015645980834961, -11.331696510314941, -8.718852996826172, -9.53558349609375, -8.731053352355957, -7.547894477844238, -8.320320129394531, -9.09148120880127, -8.715799331665039, -6.089159965515137, -9.392546653747559, -8.873835563659668, -10.453995704650879, -9.33718490600586, -8.737119674682617, -9.945321083068848, -6.802938461303711, -8.8255033493042, -10.734996795654297, -11.363070487976074, -9.504883766174316, -8.23337173461914, -9.147299766540527, -11.19953441619873, -8.114500045776367, -8.726659774780273, -9.472434997558594, -12.432547569274902, -10.610344886779785, -9.252532958984375, -10.813715934753418, -10.207596778869629, -9.780596733093262, -9.18620491027832, -8.665201187133789, -9.898173332214355, -9.50356388092041, -11.695388793945312, -8.452751159667969, -9.101766586303711, -10.523558616638184, -8.960850715637207, -9.334513664245605, -8.27133560180664, -8.696413040161133, -10.838045120239258, -9.795421600341797, -9.280174255371094, -7.926634311676025, -9.376792907714844, -7.052701950073242, -11.360630989074707, -9.109655380249023, -9.127641677856445, -10.582645416259766, -8.893275260925293, -10.502614974975586, -8.230262756347656, -9.202649116516113, -7.241029262542725, -8.594806671142578, -11.072209358215332, -10.459053039550781, -9.955745697021484, -10.162424087524414, -10.989500045776367, -8.331182479858398, -9.72840404510498, -9.972021102905273, -10.316455841064453, -8.57811450958252, -11.350505828857422, -12.295339584350586, -9.848113059997559, -7.685680866241455, -10.453495979309082, -10.141236305236816, -8.322092056274414, -10.090883255004883, -9.38430404663086, -9.866985321044922, -9.068039894104004, -9.729852676391602, -8.282586097717285, -9.392635345458984, -9.384016036987305, -11.171590805053711, -8.426548957824707, -10.44981575012207, -9.86659049987793, -8.937321662902832, -9.483341217041016, -7.7526326179504395, -9.11298656463623, -7.827114105224609, -9.616593360900879, -8.433423042297363, -7.328176498413086, -10.381036758422852, -8.38249683380127, -10.497294425964355, -7.89479923248291, -6.549461364746094, -10.465213775634766, -9.12291431427002, -8.592565536499023, -10.488892555236816, -7.442239284515381, -9.88923168182373, -8.952581405639648, -10.061434745788574, -9.464542388916016, -10.055335998535156, -10.521300315856934, -9.608885765075684, -8.693072319030762, -6.796694755554199, -9.411535263061523, -10.322417259216309, -8.50741958618164, -8.720487594604492, -8.743839263916016, -9.935290336608887, -8.175588607788086, -8.424793243408203, -9.30502700805664, -9.252455711364746, -8.299616813659668, -7.891485691070557, -9.137566566467285, -8.222101211547852, -9.837450981140137, -9.116915702819824, -9.193610191345215, -9.828299522399902, -8.338057518005371, -8.771889686584473, -8.171014785766602, -8.289741516113281, -10.111076354980469, -8.932416915893555, -9.623222351074219, -9.53248405456543, -9.780881881713867, -9.930353164672852, -9.05560302734375, -8.875224113464355, -9.633474349975586, -9.40027904510498, -9.108074188232422, -9.630935668945312, -9.580632209777832, -9.06826400756836, -9.079864501953125, -9.417219161987305, -10.149723052978516, -9.90981388092041, -8.746267318725586, -8.001378059387207, -8.451692581176758, -8.820137023925781, -9.132770538330078, -8.68295955657959, -8.734207153320312, -7.828172206878662, -9.426895141601562, -7.868432998657227, -7.745032787322998, -11.243020057678223, -8.392265319824219, -11.16121768951416, -10.480124473571777, -10.1790189743042, -11.02580738067627, -11.55456256866455, -10.849560737609863, -10.852106094360352, -12.162789344787598, -9.75540542602539, -10.823614120483398, -9.02493667602539, -10.810649871826172, -9.68735408782959, -10.321139335632324, -11.040196418762207, -8.538202285766602, -9.312840461730957, -9.361063003540039, -9.367971420288086, -11.27678108215332, -10.34036636352539, -10.00745964050293, -10.932219505310059, -9.813315391540527, -8.686407089233398, -10.074857711791992, -7.899679183959961, -7.912988662719727], shard_key=None)"
      ]
     },
     "execution_count": 30,
     "metadata": {},
     "output_type": "execute_result"
    }
   ],
   "source": [
    "# CREATE A RECORD USING THE EMBEDDING & ITS META DATA.\n",
    "\n",
    "records = []\n",
    "for idx, _ in enumerate(payload_arr):\n",
    "    records.append(models.Record(\n",
    "        id=idx,\n",
    "        payload=payload_arr[idx],\n",
    "        vector=embeddings[idx]\n",
    "    ))\n",
    "\n",
    "records[0]"
   ]
  },
  {
   "cell_type": "code",
   "execution_count": 31,
   "id": "03d2791e-e9fb-41ac-9453-ebf7ebb83e86",
   "metadata": {},
   "outputs": [
    {
     "name": "stderr",
     "output_type": "stream",
     "text": [
      "C:\\Users\\ramrs\\AppData\\Local\\Temp\\ipykernel_11940\\368262077.py:3: DeprecationWarning: `upload_records` is deprecated, use `upload_points` instead\n",
      "  qclient.upload_records(\n"
     ]
    }
   ],
   "source": [
    "# NOW UPLOAD ALL THE RECORDS THAT WE CREATED FROM OUT EMBEDDINGS TO OUR COLLECTION IN QDRANT CLOUD.\n",
    "\n",
    "qclient.upload_records(\n",
    "    collection_name=collection_name,\n",
    "    records=records\n",
    ")"
   ]
  },
  {
   "cell_type": "code",
   "execution_count": null,
   "id": "72cb89f2-1eab-4f15-8057-7bdb21abc4fa",
   "metadata": {},
   "outputs": [],
   "source": []
  },
  {
   "cell_type": "code",
   "execution_count": null,
   "id": "32a99323-0f7e-46cc-96f8-ea3cf773038c",
   "metadata": {},
   "outputs": [],
   "source": []
  }
 ],
 "metadata": {
  "kernelspec": {
   "display_name": "Python 3 (ipykernel)",
   "language": "python",
   "name": "python3"
  },
  "language_info": {
   "codemirror_mode": {
    "name": "ipython",
    "version": 3
   },
   "file_extension": ".py",
   "mimetype": "text/x-python",
   "name": "python",
   "nbconvert_exporter": "python",
   "pygments_lexer": "ipython3",
   "version": "3.8.6"
  }
 },
 "nbformat": 4,
 "nbformat_minor": 5
}
